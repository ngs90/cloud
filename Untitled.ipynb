{
 "cells": [
  {
   "cell_type": "code",
   "execution_count": 2,
   "id": "e6d712c5",
   "metadata": {},
   "outputs": [
    {
     "name": "stdout",
     "output_type": "stream",
     "text": [
      "ClaimId                                                  snes-00534\n",
      "Claim             A photograph shows Subtropical Storm Alberto a...\n",
      "Label                                                         false\n",
      "Claim URL         https://www.snopes.com/fact-check/is-this-albe...\n",
      "Reason                                                         None\n",
      "Category                                               Fauxtography\n",
      "Speaker                                                        None\n",
      "Checker                                                    Dan Evon\n",
      "Tags                                                           None\n",
      "Claim Entities    Is This an Image of Subtropical Storm Alberto ...\n",
      "Article Title                                           29 May 2018\n",
      "Publish Date                                                   None\n",
      "Claim Date                             ['Pensacola_Beach,_Florida']\n",
      "Name: 0, dtype: object\n"
     ]
    }
   ],
   "source": [
    "import pandas as pd\n",
    "import matplotlib.pyplot as plt\n",
    "import numpy as np\n",
    "import os\n",
    "import nltk\n",
    "\n",
    "# try:\n",
    "#     dl_list = ['names', 'stopwords', 'vader_lexicon', 'punkt', 'averaged_perceptron_tagger', 'state_union']\n",
    "#     nltk.download(dl_list)\n",
    "# except Exception as e:\n",
    "#     print(e)\n",
    "\n",
    "base_path = '/mount/sangsplaygrounddev/ngsplaygroundfileshare/'\n",
    "\n",
    "dev_path = os.path.join(base_path, 'dev.tsv')\n",
    "\n",
    "columns = ['ClaimId', 'Claim', 'Label', 'Claim URL', 'Reason', 'Category', 'Speaker', 'Checker', 'Tags', 'Claim Entities', 'Article Title', 'Publish Date', 'Claim Date']\n",
    "df = pd.read_csv(dev_path,  sep='\\t', header=0, names=columns)\n",
    "# print(df.columns)\n",
    "# print(df.describe())\n",
    "print(df.iloc[0])\n"
   ]
  },
  {
   "cell_type": "code",
   "execution_count": null,
   "id": "cf105c06",
   "metadata": {},
   "outputs": [],
   "source": [
    "df[]"
   ]
  }
 ],
 "metadata": {
  "kernelspec": {
   "display_name": "Python 3",
   "language": "python",
   "name": "python3"
  },
  "language_info": {
   "codemirror_mode": {
    "name": "ipython",
    "version": 3
   },
   "file_extension": ".py",
   "mimetype": "text/x-python",
   "name": "python",
   "nbconvert_exporter": "python",
   "pygments_lexer": "ipython3",
   "version": "3.7.9"
  }
 },
 "nbformat": 4,
 "nbformat_minor": 5
}
